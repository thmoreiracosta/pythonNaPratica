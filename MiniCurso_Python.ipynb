{
  "nbformat": 4,
  "nbformat_minor": 0,
  "metadata": {
    "colab": {
      "name": "MiniCurso_Python.ipynb",
      "private_outputs": true,
      "provenance": [],
      "collapsed_sections": [],
      "authorship_tag": "ABX9TyPmsm3y74CrxwCZmoE0AUmn",
      "include_colab_link": true
    },
    "kernelspec": {
      "name": "python3",
      "display_name": "Python 3"
    }
  },
  "cells": [
    {
      "cell_type": "markdown",
      "metadata": {
        "id": "view-in-github",
        "colab_type": "text"
      },
      "source": [
        "<a href=\"https://colab.research.google.com/github/thmoreiracosta/pythonNaPratica/blob/main/MiniCurso_Python.ipynb\" target=\"_parent\"><img src=\"https://colab.research.google.com/assets/colab-badge.svg\" alt=\"Open In Colab\"/></a>"
      ]
    },
    {
      "cell_type": "markdown",
      "metadata": {
        "id": "2cZcCL42W7d6"
      },
      "source": [
        "1º passo - importar base de dados <br>\r\n",
        "2º passo - visualizar a base de dados<br>\r\n",
        "3º passo -  faturamento por Loja<br>\r\n",
        "4º passo - quantidade de produtos por Loja<br>\r\n",
        "5º passo -  ticket médio por produto em cada loja<br>\r\n",
        "6º passo -  enviar e-mail com o relatório<br>"
      ]
    },
    {
      "cell_type": "code",
      "metadata": {
        "id": "x7em6sJiWMy-"
      },
      "source": [
        "# 1º passo - importar base de dados\r\n",
        "import pandas as pd\r\n",
        "import win32com.client as win32\r\n",
        "tabela_vendas = pd.read_excel('Vendas.xlsx')\r\n",
        "# 2º passo - visualizar a base de dados\r\n",
        "print(tabela_vendas)"
      ],
      "execution_count": null,
      "outputs": []
    },
    {
      "cell_type": "code",
      "metadata": {
        "id": "Szl3aQdciKTx"
      },
      "source": [
        "#Mostra a tabela por completa\r\n",
        "pd.set_option('display.max_columns', None)\r\n",
        "print(tabela_vendas)"
      ],
      "execution_count": null,
      "outputs": []
    },
    {
      "cell_type": "code",
      "metadata": {
        "id": "XJJda4ruiM5X"
      },
      "source": [
        "#Filtra a tabela com apenas essas duas colunas\r\n",
        "tabela_vendas[['ID Loja', 'Valor Final']]"
      ],
      "execution_count": null,
      "outputs": []
    },
    {
      "cell_type": "code",
      "metadata": {
        "id": "K2Bt-15liOgY"
      },
      "source": [
        "#agrupa todas as lojas para não ficarem repetidas e faz o somatório do faturamento para cada loja\r\n",
        "tabela_vendas[['ID Loja', 'Valor Final']].groupby('ID Loja').sum()"
      ],
      "execution_count": null,
      "outputs": []
    },
    {
      "cell_type": "code",
      "metadata": {
        "id": "sbpi55briQB_"
      },
      "source": [
        "# 4º passo - quantidade de produtos por Loja\r\n",
        "# preciso das colunas id loja e das quantidades, então preciso agrupar novamente as lojas e somar as quantidades\r\n",
        "tabela_vendas[['ID Loja', 'Quantidade']].groupby('ID Loja').sum()"
      ],
      "execution_count": null,
      "outputs": []
    },
    {
      "cell_type": "code",
      "metadata": {
        "id": "yUsn6-NbmpKQ"
      },
      "source": [
        "# 5º passo -  ticket médio por produto em cada loja\r\n",
        "ticket_medio = (faturamento['Valor Final'] / quantidade['Quantidade']).to_frame()\r\n",
        "print(ticket_medio)"
      ],
      "execution_count": null,
      "outputs": []
    },
    {
      "cell_type": "code",
      "metadata": {
        "id": "GlcYapx-mze4"
      },
      "source": [
        "# 6º passo -  enviar e-mail com o relatório\r\n",
        "\r\n",
        "outlook = win32.Dispatch('outlook.application')\r\n",
        "mail = outlook.CreateItem(0)\r\n",
        "mail.To = 'teste@gmail.com'\r\n",
        "mail.Subject = 'Relatório de Vendas por Loja'\r\n",
        "# mail.Body = 'Message body'\r\n",
        "mail.HTMLBody =f'''\r\n",
        "<p>Prezados,</p>\r\n",
        "<p>\r\n",
        "Segue o relatóriode vendas por cada Loja.\r\n",
        "</p>\r\n",
        "<p></p>\r\n",
        "<p>Faturamento:</p>\r\n",
        "{faturamento.to_html(formatters={'Valor Final': 'R${:,.2f}'.format})}\r\n",
        "\r\n",
        "<p>Quantidades de Vendas:</p>\r\n",
        "{quantidade.to_html()}\r\n",
        "\r\n",
        "<p>Ticket Médio dos produtos em cada Loja:</p>\r\n",
        "{ticket_medio.to_html(formatters={'Ticket Médio': 'R${:,.2f}'.format})}\r\n",
        "\r\n",
        "<p>Qualquer dúvida estou a disposição.</p>\r\n",
        "\r\n",
        "<p>Att..,</p>\r\n",
        "<p>Thiago Costa</p>\r\n",
        "'''\r\n",
        "# attachment  = \"Path to the attachment\"\r\n",
        "# mail.Attachments.Add(attachment)\r\n",
        "\r\n",
        "mail.Send()\r\n",
        "print('Email enviado')"
      ],
      "execution_count": null,
      "outputs": []
    }
  ]
}