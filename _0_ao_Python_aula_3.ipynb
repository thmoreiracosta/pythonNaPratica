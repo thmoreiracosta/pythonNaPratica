{
  "nbformat": 4,
  "nbformat_minor": 0,
  "metadata": {
    "colab": {
      "name": "#0 ao Python - aula_3",
      "provenance": [],
      "collapsed_sections": [],
      "include_colab_link": true
    },
    "kernelspec": {
      "display_name": "Python 3",
      "name": "python3"
    }
  },
  "cells": [
    {
      "cell_type": "markdown",
      "metadata": {
        "id": "view-in-github",
        "colab_type": "text"
      },
      "source": [
        "<a href=\"https://colab.research.google.com/github/thmoreiracosta/pythonNaPratica/blob/main/_0_ao_Python_aula_3.ipynb\" target=\"_parent\"><img src=\"https://colab.research.google.com/assets/colab-badge.svg\" alt=\"Open In Colab\"/></a>"
      ]
    },
    {
      "cell_type": "markdown",
      "metadata": {
        "id": "gbaMuV8HakKs"
      },
      "source": [
        "# Range()\r\n",
        "Determina quantas vezes irei passar pelo for"
      ]
    },
    {
      "cell_type": "code",
      "metadata": {
        "colab": {
          "base_uri": "https://localhost:8080/"
        },
        "id": "JC6MTUBWYqSt",
        "outputId": "34a44085-2278-47c1-9204-e8368d166726"
      },
      "source": [
        "a = [1,2,3,4]\r\n",
        "len_a = len(a)\r\n",
        "for elemento in range(len_a):\r\n",
        "  print(f'passando {elemento} vez')"
      ],
      "execution_count": 66,
      "outputs": [
        {
          "output_type": "stream",
          "text": [
            "passando 0 vez\n",
            "passando 1 vez\n",
            "passando 2 vez\n",
            "passando 3 vez\n"
          ],
          "name": "stdout"
        }
      ]
    },
    {
      "cell_type": "code",
      "metadata": {
        "colab": {
          "base_uri": "https://localhost:8080/"
        },
        "id": "a70WOp6HZSDy",
        "outputId": "94ca1e7f-fcdd-47df-c387-22d2102b6cdf"
      },
      "source": [
        "for numero in range(1,10):\r\n",
        "  print(f'passou pelo numero {numero}')\r\n",
        "\r\n",
        "  if numero % 2 == 0:\r\n",
        "    print(f'numero par {numero}')\r\n",
        "    break"
      ],
      "execution_count": null,
      "outputs": [
        {
          "output_type": "stream",
          "text": [
            "passou pelo numero 1\n",
            "passou pelo numero 2\n",
            "numero par 2\n"
          ],
          "name": "stdout"
        }
      ]
    },
    {
      "cell_type": "markdown",
      "metadata": {
        "id": "CP-CMh6cbv2r"
      },
      "source": [
        "# Funções()\r\n",
        "\r\n",
        "Como montar funções no Python"
      ]
    },
    {
      "cell_type": "code",
      "metadata": {
        "id": "6UyBBdD0b1KB"
      },
      "source": [
        "def multiplica_por_2(number):\r\n",
        "  print('estou executando a função...')\r\n",
        "  return number * 2\r\n",
        "\r\n",
        "# quatro = multiplica_por_2(2)\r\n",
        "# print(quatro)\r\n",
        "\r\n",
        "# oito = multiplica_por_2(quatro)\r\n",
        "# print(oito)"
      ],
      "execution_count": 9,
      "outputs": []
    },
    {
      "cell_type": "code",
      "metadata": {
        "colab": {
          "base_uri": "https://localhost:8080/"
        },
        "id": "6VCpMstSkVM-",
        "outputId": "c0208272-a8f7-4ca9-cb81-9eba0f978587"
      },
      "source": [
        "\r\n",
        "def multiplica_por_2(number):\r\n",
        "  #print('estou executando a função...')\r\n",
        "  return number * 2\r\n",
        "\r\n",
        "number = input('numero: ')\r\n",
        "multi = multiplica_por_2(int(number))\r\n",
        "\r\n",
        "print(multi)"
      ],
      "execution_count": 31,
      "outputs": [
        {
          "output_type": "stream",
          "text": [
            "numero: 12\n",
            "24\n"
          ],
          "name": "stdout"
        }
      ]
    },
    {
      "cell_type": "code",
      "metadata": {
        "colab": {
          "base_uri": "https://localhost:8080/"
        },
        "id": "iQ-Ir3ku63vm",
        "outputId": "2b058e20-cfd6-4336-9f42-f71d885fbc61"
      },
      "source": [
        "def retorna_varios_valores(a, b=5):\r\n",
        "    soma = a + b\r\n",
        "    mult = a * b\r\n",
        "\r\n",
        "    #return [soma, mult]\r\n",
        "    #return (soma, mult,)\r\n",
        "    return soma, mult\r\n",
        "\r\n",
        "resultados = retorna_varios_valores(7, 3)\r\n",
        "print(resultados)\r\n",
        "\r\n",
        "r_soma, r_mult = retorna_varios_valores(7)\r\n",
        "print(f'Resultado da soma: {r_soma}')\r\n",
        "print(f'Resultado da soma: {r_mult}')\r\n",
        "\r\n"
      ],
      "execution_count": 74,
      "outputs": [
        {
          "output_type": "stream",
          "text": [
            "(10, 21)\n",
            "Resultado da soma: 12\n",
            "Resultado da soma: 35\n"
          ],
          "name": "stdout"
        }
      ]
    },
    {
      "cell_type": "code",
      "metadata": {
        "colab": {
          "base_uri": "https://localhost:8080/"
        },
        "id": "_jPQjEMlmrlI",
        "outputId": "b7bb12f1-0b0a-48d4-ddc9-e8b395c04ee5"
      },
      "source": [
        "def multiplica(a, b):\r\n",
        "\treturn a * b\r\n",
        "\r\n",
        "a = float(input('Digite :'))\r\n",
        "b = float(input('Digite :'))\r\n",
        "x = multiplica(a, b)\r\n",
        "print(x)"
      ],
      "execution_count": 59,
      "outputs": [
        {
          "output_type": "stream",
          "text": [
            "Digite :24\n",
            "Digite :2\n",
            "48.0\n"
          ],
          "name": "stdout"
        }
      ]
    },
    {
      "cell_type": "code",
      "metadata": {
        "colab": {
          "base_uri": "https://localhost:8080/"
        },
        "id": "JuH2LQL_c826",
        "outputId": "5a0d78e8-86fe-4a41-ec75-e043a2d2d648"
      },
      "source": [
        "def multiplay(a, b):\r\n",
        "    return a * b\r\n",
        "\r\n",
        "resultado_1 = multiplay(8, 16)\r\n",
        "print(resultado_1)"
      ],
      "execution_count": 15,
      "outputs": [
        {
          "output_type": "stream",
          "text": [
            "128\n"
          ],
          "name": "stdout"
        }
      ]
    },
    {
      "cell_type": "code",
      "metadata": {
        "colab": {
          "base_uri": "https://localhost:8080/"
        },
        "id": "fXndeltWhptb",
        "outputId": "7a10af6c-d6f1-4939-c920-ba4e46b19c7a"
      },
      "source": [
        "a = input('Qual seu nome: ')\r\n",
        "print(a)"
      ],
      "execution_count": 16,
      "outputs": [
        {
          "output_type": "stream",
          "text": [
            "Qual seu nome: Thiago\n",
            "Thiago\n"
          ],
          "name": "stdout"
        }
      ]
    },
    {
      "cell_type": "code",
      "metadata": {
        "colab": {
          "base_uri": "https://localhost:8080/"
        },
        "id": "JXq7V4d-iEBw",
        "outputId": "3b74e451-c174-43ac-fc0b-2e76a200090e"
      },
      "source": [
        "a = input('Digite um numero: ')\r\n",
        "print(float(a))"
      ],
      "execution_count": 19,
      "outputs": [
        {
          "output_type": "stream",
          "text": [
            "Digite um numero: 15.5\n",
            "15.5\n"
          ],
          "name": "stdout"
        }
      ]
    },
    {
      "cell_type": "markdown",
      "metadata": {
        "id": "XLGUlX8b1E6T"
      },
      "source": [
        "Troca de variáveis"
      ]
    },
    {
      "cell_type": "code",
      "metadata": {
        "colab": {
          "base_uri": "https://localhost:8080/"
        },
        "id": "35warQwGr23W",
        "outputId": "0753a50a-3213-4a87-9452-fcb761eccae3"
      },
      "source": [
        "a = 1\r\n",
        "b = 2\r\n",
        "\r\n",
        "# temp = a\r\n",
        "# a = b\r\n",
        "# b = temp\r\n",
        "\r\n",
        "a, b = b, a\r\n",
        "\r\n",
        "print(a)\r\n",
        "print(b)"
      ],
      "execution_count": 65,
      "outputs": [
        {
          "output_type": "stream",
          "text": [
            "2\n",
            "1\n"
          ],
          "name": "stdout"
        }
      ]
    },
    {
      "cell_type": "markdown",
      "metadata": {
        "id": "vXl9BJh6083N"
      },
      "source": [
        "Entendendo dif entre tuplas e listas"
      ]
    },
    {
      "cell_type": "code",
      "metadata": {
        "colab": {
          "base_uri": "https://localhost:8080/"
        },
        "id": "W5U3LXGgsQDV",
        "outputId": "524a35cc-10e5-4e5d-8f3e-e10968f81efe"
      },
      "source": [
        "t = (1, 2, 3) #tupla\r\n",
        "l = [1, 2, 3] #lista (array)\r\n",
        "\r\n",
        "l[0] = 10\r\n",
        "# print(1)\r\n",
        "\r\n",
        "# print(t[0])\r\n",
        "# t[0] = 10\r\n",
        "\r\n",
        "primeiro, segundo, terceiro = t\r\n",
        "print(primeiro)\r\n",
        "print(segundo)\r\n",
        "print(terceiro)"
      ],
      "execution_count": 62,
      "outputs": [
        {
          "output_type": "stream",
          "text": [
            "1\n",
            "2\n",
            "3\n"
          ],
          "name": "stdout"
        }
      ]
    },
    {
      "cell_type": "code",
      "metadata": {
        "id": "qvEoHihWwHNG"
      },
      "source": [
        "lista = [2,6,1]\r\n"
      ],
      "execution_count": null,
      "outputs": []
    },
    {
      "cell_type": "markdown",
      "metadata": {
        "id": "g_GmS6KawRrZ"
      },
      "source": [
        "checando as passagens <br>\r\n",
        "* 1ª vez - 2 <br>\r\n",
        "* 2ª vez - 6 <br>\r\n",
        "* 3ª vez - 1 <br>\r\n"
      ]
    },
    {
      "cell_type": "code",
      "metadata": {
        "id": "REz56pNWx5oo"
      },
      "source": [
        "def find_smallest_int(arr):\r\n",
        "    menor = arr[0]\r\n",
        "    \r\n",
        "    for i in arr:\r\n",
        "        if i < menor:\r\n",
        "            menor = i\r\n",
        "    return menor"
      ],
      "execution_count": null,
      "outputs": []
    },
    {
      "cell_type": "code",
      "metadata": {
        "colab": {
          "base_uri": "https://localhost:8080/"
        },
        "id": "xLHdWIJSy_xE",
        "outputId": "9283205e-f298-4c9a-b26d-9869a9f64ecd"
      },
      "source": [
        "# Prática de Tuplas: criando e concatenando tuplas\r\n",
        "# Olá, desenvolvedores. Nessa prática, vocês serão desafiados a criarem duas tuplas e juntar as duas em uma terceira tupla. Exemplo:\r\n",
        "\r\n",
        "a = (1, 2, 3, 4,)\r\n",
        "b = ('a', 3, 1, 't',)\r\n",
        "# c = ...\r\n",
        "# print(c)\r\n",
        "# > (1, 2, 3, 4, 'a', 3, 1, 't')\r\n",
        "# Esperamos que você aproveite ao máximo a prática, pode contar conosco para qualquer dúvida!\r\n",
        "\r\n",
        "c = a + b\r\n",
        "print(c)\r\n"
      ],
      "execution_count": 64,
      "outputs": [
        {
          "output_type": "stream",
          "text": [
            "(1, 2, 3, 4, 'a', 3, 1, 't')\n"
          ],
          "name": "stdout"
        }
      ]
    },
    {
      "cell_type": "code",
      "metadata": {
        "id": "r3pyEzPdzeRv"
      },
      "source": [
        ""
      ],
      "execution_count": null,
      "outputs": []
    }
  ]
}