{
  "nbformat": 4,
  "nbformat_minor": 0,
  "metadata": {
    "colab": {
      "name": "#0 ao Python - aula_3",
      "provenance": [],
      "collapsed_sections": [],
      "include_colab_link": true
    },
    "kernelspec": {
      "display_name": "Python 3",
      "name": "python3"
    }
  },
  "cells": [
    {
      "cell_type": "markdown",
      "metadata": {
        "id": "view-in-github",
        "colab_type": "text"
      },
      "source": [
        "<a href=\"https://colab.research.google.com/github/thmoreiracosta/pythonNaPratica/blob/main/_0_ao_Python_aula_3.ipynb\" target=\"_parent\"><img src=\"https://colab.research.google.com/assets/colab-badge.svg\" alt=\"Open In Colab\"/></a>"
      ]
    },
    {
      "cell_type": "markdown",
      "metadata": {
        "id": "gbaMuV8HakKs"
      },
      "source": [
        "# Range()\r\n",
        "Determina quantas vezes irei passar pelo for"
      ]
    },
    {
      "cell_type": "code",
      "metadata": {
        "colab": {
          "base_uri": "https://localhost:8080/"
        },
        "id": "JC6MTUBWYqSt",
        "outputId": "6c8689b1-bfd0-4b6a-8707-375bf854e20d"
      },
      "source": [
        "a = [0,1,2,3]\r\n",
        "len_a = len(a)\r\n",
        "for elemento in range(len_a):\r\n",
        "  print(f'passando {elemento} vez')"
      ],
      "execution_count": null,
      "outputs": [
        {
          "output_type": "stream",
          "text": [
            "passando 0 vez\n",
            "passando 1 vez\n",
            "passando 2 vez\n",
            "passando 3 vez\n"
          ],
          "name": "stdout"
        }
      ]
    },
    {
      "cell_type": "code",
      "metadata": {
        "colab": {
          "base_uri": "https://localhost:8080/"
        },
        "id": "a70WOp6HZSDy",
        "outputId": "94ca1e7f-fcdd-47df-c387-22d2102b6cdf"
      },
      "source": [
        "for numero in range(1,10):\r\n",
        "  print(f'passou pelo numero {numero}')\r\n",
        "\r\n",
        "  if numero % 2 == 0:\r\n",
        "    print(f'numero par {numero}')\r\n",
        "    break"
      ],
      "execution_count": null,
      "outputs": [
        {
          "output_type": "stream",
          "text": [
            "passou pelo numero 1\n",
            "passou pelo numero 2\n",
            "numero par 2\n"
          ],
          "name": "stdout"
        }
      ]
    },
    {
      "cell_type": "markdown",
      "metadata": {
        "id": "CP-CMh6cbv2r"
      },
      "source": [
        "# Funções()\r\n",
        "\r\n",
        "Como montar funções no Python"
      ]
    },
    {
      "cell_type": "code",
      "metadata": {
        "id": "6UyBBdD0b1KB"
      },
      "source": [
        "def multiplica_por_2(number):\r\n",
        "  print('estou executando a função...')\r\n",
        "  return number * 2\r\n",
        "\r\n",
        "# quatro = multiplica_por_2(2)\r\n",
        "# print(quatro)\r\n",
        "\r\n",
        "# oito = multiplica_por_2(quatro)\r\n",
        "# print(oito)"
      ],
      "execution_count": 9,
      "outputs": []
    },
    {
      "cell_type": "code",
      "metadata": {
        "colab": {
          "base_uri": "https://localhost:8080/"
        },
        "id": "JuH2LQL_c826",
        "outputId": "5a0d78e8-86fe-4a41-ec75-e043a2d2d648"
      },
      "source": [
        "def multiplay(a, b):\r\n",
        "    return a * b\r\n",
        "\r\n",
        "resultado_1 = multiplay(8, 16)\r\n",
        "print(resultado_1)"
      ],
      "execution_count": 15,
      "outputs": [
        {
          "output_type": "stream",
          "text": [
            "128\n"
          ],
          "name": "stdout"
        }
      ]
    },
    {
      "cell_type": "code",
      "metadata": {
        "colab": {
          "base_uri": "https://localhost:8080/"
        },
        "id": "fXndeltWhptb",
        "outputId": "7a10af6c-d6f1-4939-c920-ba4e46b19c7a"
      },
      "source": [
        "a = input('Qual seu nome: ')\r\n",
        "print(a)"
      ],
      "execution_count": 16,
      "outputs": [
        {
          "output_type": "stream",
          "text": [
            "Qual seu nome: Thiago\n",
            "Thiago\n"
          ],
          "name": "stdout"
        }
      ]
    },
    {
      "cell_type": "code",
      "metadata": {
        "colab": {
          "base_uri": "https://localhost:8080/"
        },
        "id": "JXq7V4d-iEBw",
        "outputId": "3b74e451-c174-43ac-fc0b-2e76a200090e"
      },
      "source": [
        "a = input('Digite um numero: ')\r\n",
        "print(float(a))"
      ],
      "execution_count": 19,
      "outputs": [
        {
          "output_type": "stream",
          "text": [
            "Digite um numero: 15.5\n",
            "15.5\n"
          ],
          "name": "stdout"
        }
      ]
    },
    {
      "cell_type": "code",
      "metadata": {
        "id": "UAiHwBLjdMwP"
      },
      "source": [
        ""
      ],
      "execution_count": null,
      "outputs": []
    }
  ]
}