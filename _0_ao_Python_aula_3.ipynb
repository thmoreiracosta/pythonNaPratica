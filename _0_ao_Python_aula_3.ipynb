{
  "nbformat": 4,
  "nbformat_minor": 0,
  "metadata": {
    "colab": {
      "name": "#0 ao Python - aula_3",
      "provenance": [],
      "collapsed_sections": [],
      "include_colab_link": true
    },
    "kernelspec": {
      "display_name": "Python 3",
      "name": "python3"
    }
  },
  "cells": [
    {
      "cell_type": "markdown",
      "metadata": {
        "id": "view-in-github",
        "colab_type": "text"
      },
      "source": [
        "<a href=\"https://colab.research.google.com/github/thmoreiracosta/pythonNaPratica/blob/main/_0_ao_Python_aula_3.ipynb\" target=\"_parent\"><img src=\"https://colab.research.google.com/assets/colab-badge.svg\" alt=\"Open In Colab\"/></a>"
      ]
    },
    {
      "cell_type": "markdown",
      "metadata": {
        "id": "gbaMuV8HakKs"
      },
      "source": [
        "# Range()\r\n",
        "Determina quantas vezes irei passar pelo for"
      ]
    },
    {
      "cell_type": "code",
      "metadata": {
        "colab": {
          "base_uri": "https://localhost:8080/"
        },
        "id": "JC6MTUBWYqSt",
        "outputId": "6c8689b1-bfd0-4b6a-8707-375bf854e20d"
      },
      "source": [
        "a = [0,1,2,3]\r\n",
        "len_a = len(a)\r\n",
        "for elemento in range(len_a):\r\n",
        "  print(f'passando {elemento} vez')"
      ],
      "execution_count": null,
      "outputs": [
        {
          "output_type": "stream",
          "text": [
            "passando 0 vez\n",
            "passando 1 vez\n",
            "passando 2 vez\n",
            "passando 3 vez\n"
          ],
          "name": "stdout"
        }
      ]
    },
    {
      "cell_type": "code",
      "metadata": {
        "colab": {
          "base_uri": "https://localhost:8080/"
        },
        "id": "a70WOp6HZSDy",
        "outputId": "94ca1e7f-fcdd-47df-c387-22d2102b6cdf"
      },
      "source": [
        "for numero in range(1,10):\r\n",
        "  print(f'passou pelo numero {numero}')\r\n",
        "\r\n",
        "  if numero % 2 == 0:\r\n",
        "    print(f'numero par {numero}')\r\n",
        "    break"
      ],
      "execution_count": null,
      "outputs": [
        {
          "output_type": "stream",
          "text": [
            "passou pelo numero 1\n",
            "passou pelo numero 2\n",
            "numero par 2\n"
          ],
          "name": "stdout"
        }
      ]
    },
    {
      "cell_type": "markdown",
      "metadata": {
        "id": "CP-CMh6cbv2r"
      },
      "source": [
        "# Funções()\r\n",
        "\r\n",
        "Como montar funções no Python"
      ]
    },
    {
      "cell_type": "code",
      "metadata": {
        "id": "6UyBBdD0b1KB"
      },
      "source": [
        "def multiplica_por_2(number):\r\n",
        "  print('estou executando a função...')\r\n",
        "  return number * 2\r\n",
        "\r\n",
        "# quatro = multiplica_por_2(2)\r\n",
        "# print(quatro)\r\n",
        "\r\n",
        "# oito = multiplica_por_2(quatro)\r\n",
        "# print(oito)"
      ],
      "execution_count": 9,
      "outputs": []
    },
    {
      "cell_type": "code",
      "metadata": {
        "colab": {
          "base_uri": "https://localhost:8080/"
        },
        "id": "6VCpMstSkVM-",
        "outputId": "c0208272-a8f7-4ca9-cb81-9eba0f978587"
      },
      "source": [
        "\r\n",
        "def multiplica_por_2(number):\r\n",
        "  #print('estou executando a função...')\r\n",
        "  return number * 2\r\n",
        "\r\n",
        "number = input('numero: ')\r\n",
        "multi = multiplica_por_2(int(number))\r\n",
        "\r\n",
        "print(multi)"
      ],
      "execution_count": 31,
      "outputs": [
        {
          "output_type": "stream",
          "text": [
            "numero: 12\n",
            "24\n"
          ],
          "name": "stdout"
        }
      ]
    },
    {
      "cell_type": "code",
      "metadata": {
        "colab": {
          "base_uri": "https://localhost:8080/"
        },
        "id": "_jPQjEMlmrlI",
        "outputId": "b7bb12f1-0b0a-48d4-ddc9-e8b395c04ee5"
      },
      "source": [
        "def multiplica(a, b):\r\n",
        "\treturn a * b\r\n",
        "\r\n",
        "a = float(input('Digite :'))\r\n",
        "b = float(input('Digite :'))\r\n",
        "x = multiplica(a, b)\r\n",
        "print(x)"
      ],
      "execution_count": 59,
      "outputs": [
        {
          "output_type": "stream",
          "text": [
            "Digite :24\n",
            "Digite :2\n",
            "48.0\n"
          ],
          "name": "stdout"
        }
      ]
    },
    {
      "cell_type": "code",
      "metadata": {
        "colab": {
          "base_uri": "https://localhost:8080/"
        },
        "id": "JuH2LQL_c826",
        "outputId": "5a0d78e8-86fe-4a41-ec75-e043a2d2d648"
      },
      "source": [
        "def multiplay(a, b):\r\n",
        "    return a * b\r\n",
        "\r\n",
        "resultado_1 = multiplay(8, 16)\r\n",
        "print(resultado_1)"
      ],
      "execution_count": 15,
      "outputs": [
        {
          "output_type": "stream",
          "text": [
            "128\n"
          ],
          "name": "stdout"
        }
      ]
    },
    {
      "cell_type": "code",
      "metadata": {
        "colab": {
          "base_uri": "https://localhost:8080/"
        },
        "id": "fXndeltWhptb",
        "outputId": "7a10af6c-d6f1-4939-c920-ba4e46b19c7a"
      },
      "source": [
        "a = input('Qual seu nome: ')\r\n",
        "print(a)"
      ],
      "execution_count": 16,
      "outputs": [
        {
          "output_type": "stream",
          "text": [
            "Qual seu nome: Thiago\n",
            "Thiago\n"
          ],
          "name": "stdout"
        }
      ]
    },
    {
      "cell_type": "code",
      "metadata": {
        "colab": {
          "base_uri": "https://localhost:8080/"
        },
        "id": "JXq7V4d-iEBw",
        "outputId": "3b74e451-c174-43ac-fc0b-2e76a200090e"
      },
      "source": [
        "a = input('Digite um numero: ')\r\n",
        "print(float(a))"
      ],
      "execution_count": 19,
      "outputs": [
        {
          "output_type": "stream",
          "text": [
            "Digite um numero: 15.5\n",
            "15.5\n"
          ],
          "name": "stdout"
        }
      ]
    },
    {
      "cell_type": "code",
      "metadata": {
        "colab": {
          "base_uri": "https://localhost:8080/"
        },
        "id": "35warQwGr23W",
        "outputId": "d65683ab-c69e-4562-e4d4-62f4634ffc45"
      },
      "source": [
        "a = 1\r\n",
        "b = 2\r\n",
        "\r\n",
        "temp = a\r\n",
        "a = b\r\n",
        "b = temp\r\n",
        "print(a)\r\n",
        "print(b)"
      ],
      "execution_count": 60,
      "outputs": [
        {
          "output_type": "stream",
          "text": [
            "2\n",
            "1\n"
          ],
          "name": "stdout"
        }
      ]
    },
    {
      "cell_type": "code",
      "metadata": {
        "colab": {
          "base_uri": "https://localhost:8080/"
        },
        "id": "W5U3LXGgsQDV",
        "outputId": "524a35cc-10e5-4e5d-8f3e-e10968f81efe"
      },
      "source": [
        "t = (1, 2, 3)\r\n",
        "l = [1, 2, 3]\r\n",
        "\r\n",
        "l[0] = 10\r\n",
        "# print(1)\r\n",
        "\r\n",
        "# print(t[0])\r\n",
        "# t[0] = 10\r\n",
        "\r\n",
        "primeiro, segundo, terceiro = t\r\n",
        "print(primeiro)\r\n",
        "print(segundo)\r\n",
        "print(terceiro)"
      ],
      "execution_count": 62,
      "outputs": [
        {
          "output_type": "stream",
          "text": [
            "1\n",
            "2\n",
            "3\n"
          ],
          "name": "stdout"
        }
      ]
    },
    {
      "cell_type": "code",
      "metadata": {
        "id": "UAiHwBLjdMwP"
      },
      "source": [
        ""
      ],
      "execution_count": null,
      "outputs": []
    }
  ]
}