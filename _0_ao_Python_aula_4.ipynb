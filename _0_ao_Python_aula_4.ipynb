{
  "nbformat": 4,
  "nbformat_minor": 0,
  "metadata": {
    "colab": {
      "name": "#0 ao Python - aula_4.ipynb",
      "provenance": [],
      "collapsed_sections": [],
      "authorship_tag": "ABX9TyMH588T32BOPeMPGpxm9Vt4",
      "include_colab_link": true
    },
    "kernelspec": {
      "name": "python3",
      "display_name": "Python 3"
    }
  },
  "cells": [
    {
      "cell_type": "markdown",
      "metadata": {
        "id": "view-in-github",
        "colab_type": "text"
      },
      "source": [
        "<a href=\"https://colab.research.google.com/github/thmoreiracosta/pythonNaPratica/blob/main/_0_ao_Python_aula_4.ipynb\" target=\"_parent\"><img src=\"https://colab.research.google.com/assets/colab-badge.svg\" alt=\"Open In Colab\"/></a>"
      ]
    },
    {
      "cell_type": "code",
      "metadata": {
        "id": "BA3vH84eYxTH",
        "colab": {
          "base_uri": "https://localhost:8080/"
        },
        "outputId": "d1f21527-8d59-49f5-d664-512546378bc7"
      },
      "source": [
        "#Short Long Short\n",
        "# Temos 2 strings e deve retornar a pequena nas \n",
        "# extremidades e a maior ao centro\n",
        "def solution(a, b):\n",
        "  if len(a) < len(b):\n",
        "    return a + b + a\n",
        "  else:\n",
        "    return b + a + b\n",
        "\n",
        "a = 'Eu na Kenzie'\n",
        "b = ' serei Full Stack '\n",
        "y = solution(a,b)\n",
        "\n",
        "print(y)"
      ],
      "execution_count": 10,
      "outputs": [
        {
          "output_type": "stream",
          "text": [
            "Eu na Kenzie serei Full Stack Eu na Kenzie\n"
          ],
          "name": "stdout"
        }
      ]
    },
    {
      "cell_type": "code",
      "metadata": {
        "colab": {
          "base_uri": "https://localhost:8080/",
          "height": 129
        },
        "id": "9v6QUCKZa9hC",
        "outputId": "eaa5b712-f193-484e-a58d-609c4f609015"
      },
      "source": [
        "#reversedWords\n",
        "\n",
        "def reverse_words(s):\n",
        "  list_pl = s.split()\n",
        "  list_inv = list_pl[::-1]\n",
        "  return ' '.join(list_inv)\n",
        "\n",
        "a = 'Thiago Moreira'\n",
        "print(a)\n",
        "reverse_words(a)\n",
        "\n",
        "\n",
        "#print(s)\n"
      ],
      "execution_count": 10,
      "outputs": [
        {
          "output_type": "error",
          "ename": "IndentationError",
          "evalue": "ignored",
          "traceback": [
            "\u001b[0;36m  File \u001b[0;32m\"<ipython-input-10-82c20487774a>\"\u001b[0;36m, line \u001b[0;32m11\u001b[0m\n\u001b[0;31m    list_pl = a.split()\u001b[0m\n\u001b[0m    ^\u001b[0m\n\u001b[0;31mIndentationError\u001b[0m\u001b[0;31m:\u001b[0m unexpected indent\n"
          ]
        }
      ]
    },
    {
      "cell_type": "code",
      "metadata": {
        "colab": {
          "base_uri": "https://localhost:8080/"
        },
        "id": "6dY-LcuxcqJz",
        "outputId": "ab06f343-f448-4212-be80-cceae963e6d2"
      },
      "source": [
        "#Escopo de funções\n",
        "\n",
        "letra = 'a'\n",
        "\n",
        "def fn_qualquer():\n",
        "  letra = 'b'\n",
        "  print(letra)\n",
        "\n",
        "fn_qualquer()\n",
        "print(letra)"
      ],
      "execution_count": 15,
      "outputs": [
        {
          "output_type": "stream",
          "text": [
            "b\n",
            "a\n"
          ],
          "name": "stdout"
        }
      ]
    },
    {
      "cell_type": "code",
      "metadata": {
        "colab": {
          "base_uri": "https://localhost:8080/"
        },
        "id": "u8IPXzO8dreU",
        "outputId": "551544a4-1a2e-411f-eb9e-ca91f5219e6f"
      },
      "source": [
        "#Dicionários\n",
        "\n",
        "carro = {'modelo': 'celta', 'ano': 2007}\n",
        "\n",
        "# print(carro['modelo'])\n",
        "# print(carro['ano'])\n",
        "\n",
        "for chave, valor in carro.items():\n",
        "  print(chave)\n",
        "  print(valor)"
      ],
      "execution_count": 3,
      "outputs": [
        {
          "output_type": "stream",
          "text": [
            "modelo\n",
            "celta\n",
            "ano\n",
            "2007\n"
          ],
          "name": "stdout"
        }
      ]
    },
    {
      "cell_type": "code",
      "metadata": {
        "colab": {
          "base_uri": "https://localhost:8080/"
        },
        "id": "a4U4904igXn5",
        "outputId": "1b7d64b2-6b09-4f49-ac5c-17a17a0bd170"
      },
      "source": [
        "import csv \n",
        "\n",
        "def carregar_arquivo(arquivo):\n",
        "  return open(arquivo, newline='')\n",
        "\n",
        "\n",
        "def obter_dados(arquivo):\n",
        "  leitor = csv.DictReader(arquivo, delimiter=',')\n",
        "  return leitor\n",
        "\n",
        "arquivo_csv = carregar_arquivo('CarRentalData.csv')\n",
        "dados = obter_dados(arquivo_csv)\n",
        "\n",
        "#print(dict(next(dados)))\n",
        "\n",
        "teslas_alugados = 0\n",
        "\n",
        "for carro in dados:\n",
        "  carro = dict(carro)\n",
        "  if carro['vehicle.make'] == 'Tesla':\n",
        "    teslas_alugados = teslas_alugados + 1\n",
        "\n",
        "\n",
        "print(teslas_alugados)\n",
        "\n"
      ],
      "execution_count": 25,
      "outputs": [
        {
          "output_type": "stream",
          "text": [
            "598\n"
          ],
          "name": "stdout"
        }
      ]
    }
  ]
}