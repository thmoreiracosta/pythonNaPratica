{
  "nbformat": 4,
  "nbformat_minor": 0,
  "metadata": {
    "colab": {
      "name": "#aula_3",
      "provenance": [],
      "collapsed_sections": [],
      "include_colab_link": true
    },
    "kernelspec": {
      "display_name": "Python 3",
      "name": "python3"
    }
  },
  "cells": [
    {
      "cell_type": "markdown",
      "metadata": {
        "id": "view-in-github",
        "colab_type": "text"
      },
      "source": [
        "<a href=\"https://colab.research.google.com/github/thmoreiracosta/pythonNaPratica/blob/main/_aula_3.ipynb\" target=\"_parent\"><img src=\"https://colab.research.google.com/assets/colab-badge.svg\" alt=\"Open In Colab\"/></a>"
      ]
    },
    {
      "cell_type": "markdown",
      "metadata": {
        "id": "gbaMuV8HakKs"
      },
      "source": [
        "# range()\r\n",
        "Determina quantas vezes irei passar pelo for"
      ]
    },
    {
      "cell_type": "code",
      "metadata": {
        "colab": {
          "base_uri": "https://localhost:8080/"
        },
        "id": "JC6MTUBWYqSt",
        "outputId": "6c8689b1-bfd0-4b6a-8707-375bf854e20d"
      },
      "source": [
        "a = [0,1,2,3]\r\n",
        "len_a = len(a)\r\n",
        "for elemento in range(len_a):\r\n",
        "  print(f'passando {elemento} vez')"
      ],
      "execution_count": null,
      "outputs": [
        {
          "output_type": "stream",
          "text": [
            "passando 0 vez\n",
            "passando 1 vez\n",
            "passando 2 vez\n",
            "passando 3 vez\n"
          ],
          "name": "stdout"
        }
      ]
    },
    {
      "cell_type": "code",
      "metadata": {
        "colab": {
          "base_uri": "https://localhost:8080/"
        },
        "id": "a70WOp6HZSDy",
        "outputId": "94ca1e7f-fcdd-47df-c387-22d2102b6cdf"
      },
      "source": [
        "for numero in range(1,10):\r\n",
        "  print(f'passou pelo numero {numero}')\r\n",
        "\r\n",
        "  if numero % 2 == 0:\r\n",
        "    print(f'numero par {numero}')\r\n",
        "    break"
      ],
      "execution_count": null,
      "outputs": [
        {
          "output_type": "stream",
          "text": [
            "passou pelo numero 1\n",
            "passou pelo numero 2\n",
            "numero par 2\n"
          ],
          "name": "stdout"
        }
      ]
    }
  ]
}