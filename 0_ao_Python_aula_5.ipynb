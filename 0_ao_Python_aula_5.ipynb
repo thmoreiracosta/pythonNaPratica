{
  "nbformat": 4,
  "nbformat_minor": 0,
  "metadata": {
    "colab": {
      "name": "0 ao Python - aula_5.ipynb",
      "private_outputs": true,
      "provenance": [],
      "collapsed_sections": [],
      "authorship_tag": "ABX9TyPPRUKxWEJBrbBwZsUuYIq7",
      "include_colab_link": true
    },
    "kernelspec": {
      "name": "python3",
      "display_name": "Python 3"
    }
  },
  "cells": [
    {
      "cell_type": "markdown",
      "metadata": {
        "id": "view-in-github",
        "colab_type": "text"
      },
      "source": [
        "<a href=\"https://colab.research.google.com/github/thmoreiracosta/pythonNaPratica/blob/main/0_ao_Python_aula_5.ipynb\" target=\"_parent\"><img src=\"https://colab.research.google.com/assets/colab-badge.svg\" alt=\"Open In Colab\"/></a>"
      ]
    },
    {
      "cell_type": "code",
      "metadata": {
        "id": "7lir0woWYfkD"
      },
      "source": [
        "!pip install -q matplotlib\r\n",
        "from matplotlib import pyplot as plt\r\n",
        "import csv"
      ],
      "execution_count": null,
      "outputs": []
    },
    {
      "cell_type": "code",
      "metadata": {
        "id": "PVwCipvcaWpT"
      },
      "source": [
        "def obter_dados():\r\n",
        "  with open('CarRentalData.csv') as f:\r\n",
        "    return [dado_carro for dado_carro in csv.DictReader(f)]\r\n",
        "\r\n",
        "def contar_carros_eletricos_por_ano(dados):\r\n",
        "  # o objetivo é conseguir um dicionário\r\n",
        "  # nesse formato:\r\n",
        "  # {'2015': 100,'2016': 120}\r\n",
        "  contador = {}\r\n",
        "\r\n",
        "  for carro in dados:\r\n",
        "    if carro['fuelType'] == 'ELECTRIC':\r\n",
        "      ano = carro['vehicle.year']\r\n",
        "\r\n",
        "      qtd = contador.get(ano, 0) + 1\r\n",
        "\r\n",
        "      contador.update( {ano: qtd} )\r\n",
        "      \r\n",
        "      # print(contador)\r\n",
        "  \r\n",
        "  return contador\r\n",
        "  \r\n",
        "\r\n",
        "# dados_carros = obter_dados()\r\n",
        "# carros_eletricos_por_ano = contar_carros_eletricos_por_ano(dados_carros)\r\n",
        "# print(carros_eletricos_por_ano)\r\n",
        "# print(dados_carros)\r\n",
        "\r\n",
        "\r\n",
        "\r\n",
        "# anos = list(carros_eletricos_por_ano.keys())\r\n",
        "# quantidades = list(carros_eletricos_por_ano.values())\r\n",
        "\r\n",
        "# plt.plot(anos, quantidades)\r\n",
        "\r\n",
        "def pegar_dados_de_lista_de_tuplas(lista_de_dados, posicao):\r\n",
        "  valores = []\r\n",
        "\r\n",
        "  for valor in lista_de_dados:\r\n",
        "    valores.append(valor[posicao])\r\n",
        "\r\n",
        "  return valores\r\n",
        "\r\n",
        "\r\n",
        "# leu dados do CSV\r\n",
        "dados_carros = obter_dados()\r\n",
        "\r\n",
        "#contamos os carros por ano\r\n",
        "carros_eletricos_por_ano = contar_carros_eletricos_por_ano(dados_carros)\r\n",
        "\r\n",
        "# ordenar os dados para o gráfico\r\n",
        "carros_ordenados = sorted(carros_eletricos_por_ano.items())\r\n",
        "\r\n",
        "# separamos os dados em duas listas: tempo e quantidade\r\n",
        "anos = pegar_dados_de_lista_de_tuplas(carros_ordenados,0)\r\n",
        "quantidades = pegar_dados_de_lista_de_tuplas(carros_ordenados,1)\r\n",
        "\r\n",
        "#print(anos)\r\n",
        "#print(quantidades)\r\n",
        "\r\n",
        "#construimos um gráfico\r\n",
        "plt.xlabel('Anos')\r\n",
        "plt.ylabel('Quantidade de Veículos Elétricos')\r\n",
        "plt.plot(anos, quantidades)\r\n",
        "plt.savefig('carros_eletricos_por_ano.png')"
      ],
      "execution_count": null,
      "outputs": []
    },
    {
      "cell_type": "code",
      "metadata": {
        "id": "PDyExhBhtt60"
      },
      "source": [
        "plt.xlabel('Anos')\r\n",
        "plt.ylabel('Quantidade de Veículos Elétricos')\r\n",
        "plt.plot(anos, quantidades)\r\n",
        "plt.bar(anos, quantidades)\r\n",
        "plt.savefig('carros_eletricos_por_ano_bar.png')"
      ],
      "execution_count": null,
      "outputs": []
    }
  ]
}