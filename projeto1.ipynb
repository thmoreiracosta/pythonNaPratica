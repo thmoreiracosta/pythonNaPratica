{
 "metadata": {
  "language_info": {
   "codemirror_mode": {
    "name": "ipython",
    "version": 3
   },
   "file_extension": ".py",
   "mimetype": "text/x-python",
   "name": "python",
   "nbconvert_exporter": "python",
   "pygments_lexer": "ipython3",
   "version": "3.7.8-final"
  },
  "orig_nbformat": 2,
  "kernelspec": {
   "name": "python3",
   "display_name": "Python 3.7.8 64-bit",
   "metadata": {
    "interpreter": {
     "hash": "22800efcd4c49881911a0b2d8a79797207328a6a642f3a84c2d705a7929860d9"
    }
   }
  }
 },
 "nbformat": 4,
 "nbformat_minor": 2,
 "cells": [
  {
   "source": [
    "Meu primeiro programa"
   ],
   "cell_type": "markdown",
   "metadata": {}
  },
  {
   "cell_type": "code",
   "execution_count": 20,
   "metadata": {},
   "outputs": [
    {
     "output_type": "stream",
     "name": "stdout",
     "text": [
      "Chico Sis\n"
     ]
    }
   ],
   "source": [
    "name = input('Qual seu nome?')\n",
    "firstName = input('Sobrenome')\n",
    "print(name, firstName)"
   ]
  },
  {
   "cell_type": "code",
   "execution_count": 22,
   "metadata": {},
   "outputs": [
    {
     "output_type": "stream",
     "name": "stdout",
     "text": [
      "O faturamento da loja foi 1000\n"
     ]
    }
   ],
   "source": [
    "fat = 1000\n",
    "print('O faturamento da loja foi', fat)"
   ]
  }
 ]
}